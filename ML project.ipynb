{
 "cells": [
  {
   "cell_type": "code",
   "execution_count": 1,
   "id": "6d3b4b6b",
   "metadata": {},
   "outputs": [
    {
     "name": "stdout",
     "output_type": "stream",
     "text": [
      "Requirement already satisfied: wordcloud in c:\\users\\hp\\anaconda3\\lib\\site-packages (1.9.3)Note: you may need to restart the kernel to use updated packages.\n",
      "\n",
      "Requirement already satisfied: numpy>=1.6.1 in c:\\users\\hp\\anaconda3\\lib\\site-packages (from wordcloud) (1.24.4)\n",
      "Requirement already satisfied: pillow in c:\\users\\hp\\anaconda3\\lib\\site-packages (from wordcloud) (10.0.1)\n",
      "Requirement already satisfied: matplotlib in c:\\users\\hp\\anaconda3\\lib\\site-packages (from wordcloud) (3.7.2)\n",
      "Requirement already satisfied: contourpy>=1.0.1 in c:\\users\\hp\\anaconda3\\lib\\site-packages (from matplotlib->wordcloud) (1.0.5)\n",
      "Requirement already satisfied: cycler>=0.10 in c:\\users\\hp\\anaconda3\\lib\\site-packages (from matplotlib->wordcloud) (0.11.0)\n",
      "Requirement already satisfied: fonttools>=4.22.0 in c:\\users\\hp\\anaconda3\\lib\\site-packages (from matplotlib->wordcloud) (4.25.0)\n",
      "Requirement already satisfied: kiwisolver>=1.0.1 in c:\\users\\hp\\anaconda3\\lib\\site-packages (from matplotlib->wordcloud) (1.4.4)\n",
      "Requirement already satisfied: packaging>=20.0 in c:\\users\\hp\\anaconda3\\lib\\site-packages (from matplotlib->wordcloud) (23.1)\n",
      "Requirement already satisfied: pyparsing<3.1,>=2.3.1 in c:\\users\\hp\\anaconda3\\lib\\site-packages (from matplotlib->wordcloud) (3.0.9)\n",
      "Requirement already satisfied: python-dateutil>=2.7 in c:\\users\\hp\\anaconda3\\lib\\site-packages (from matplotlib->wordcloud) (2.8.2)\n",
      "Requirement already satisfied: six>=1.5 in c:\\users\\hp\\anaconda3\\lib\\site-packages (from python-dateutil>=2.7->matplotlib->wordcloud) (1.16.0)\n"
     ]
    },
    {
     "name": "stderr",
     "output_type": "stream",
     "text": [
      "\n",
      "[notice] A new release of pip is available: 24.1 -> 24.2\n",
      "[notice] To update, run: python.exe -m pip install --upgrade pip\n"
     ]
    }
   ],
   "source": [
    "pip install wordcloud"
   ]
  },
  {
   "cell_type": "code",
   "execution_count": 2,
   "id": "7fcb3984",
   "metadata": {},
   "outputs": [],
   "source": [
    "\n",
    "import re\n",
    "import numpy as np\n",
    "import pandas as pd\n",
    "import seaborn as sns\n",
    "from wordcloud import WordCloud\n",
    "import matplotlib.pyplot as plt\n",
    "from nltk.stem import WordNetLemmatizer\n",
    "from sklearn.svm import LinearSVC\n",
    "from sklearn.naive_bayes import BernoulliNB\n",
    "from sklearn.linear_model import LogisticRegression\n",
    "from sklearn.model_selection import train_test_split\n",
    "from sklearn.feature_extraction.text import TfidfVectorizer\n",
    "from sklearn.metrics import confusion_matrix, classification_report\n",
    "from sklearn.metrics import accuracy_score, confusion_matrix, classification_report,f1_score\n",
    "\n"
   ]
  },
  {
   "cell_type": "code",
   "execution_count": 3,
   "id": "980c816a",
   "metadata": {},
   "outputs": [
    {
     "data": {
      "text/html": [
       "<div>\n",
       "<style scoped>\n",
       "    .dataframe tbody tr th:only-of-type {\n",
       "        vertical-align: middle;\n",
       "    }\n",
       "\n",
       "    .dataframe tbody tr th {\n",
       "        vertical-align: top;\n",
       "    }\n",
       "\n",
       "    .dataframe thead th {\n",
       "        text-align: right;\n",
       "    }\n",
       "</style>\n",
       "<table border=\"1\" class=\"dataframe\">\n",
       "  <thead>\n",
       "    <tr style=\"text-align: right;\">\n",
       "      <th></th>\n",
       "      <th>2401</th>\n",
       "      <th>Borderlands</th>\n",
       "      <th>Positive</th>\n",
       "      <th>im getting on borderlands and i will murder you all ,</th>\n",
       "    </tr>\n",
       "  </thead>\n",
       "  <tbody>\n",
       "    <tr>\n",
       "      <th>42852</th>\n",
       "      <td>10151</td>\n",
       "      <td>PlayerUnknownsBattlegrounds(PUBG)</td>\n",
       "      <td>Negative</td>\n",
       "      <td>You fools think banning gambling would increas...</td>\n",
       "    </tr>\n",
       "    <tr>\n",
       "      <th>67060</th>\n",
       "      <td>7083</td>\n",
       "      <td>johnson&amp;johnson</td>\n",
       "      <td>Neutral</td>\n",
       "      <td>Got an internship rejection email today. Thank...</td>\n",
       "    </tr>\n",
       "    <tr>\n",
       "      <th>42691</th>\n",
       "      <td>10124</td>\n",
       "      <td>PlayerUnknownsBattlegrounds(PUBG)</td>\n",
       "      <td>Positive</td>\n",
       "      <td>I love playing @ PUBG. So fun to be... Also so...</td>\n",
       "    </tr>\n",
       "    <tr>\n",
       "      <th>14578</th>\n",
       "      <td>2897</td>\n",
       "      <td>Dota2</td>\n",
       "      <td>Negative</td>\n",
       "      <td>arcade game.</td>\n",
       "    </tr>\n",
       "    <tr>\n",
       "      <th>31954</th>\n",
       "      <td>7484</td>\n",
       "      <td>LeagueOfLegends</td>\n",
       "      <td>Negative</td>\n",
       "      <td>I</td>\n",
       "    </tr>\n",
       "    <tr>\n",
       "      <th>13631</th>\n",
       "      <td>8739</td>\n",
       "      <td>NBA2K</td>\n",
       "      <td>Negative</td>\n",
       "      <td>@NBA2K worst 2k ever idc</td>\n",
       "    </tr>\n",
       "    <tr>\n",
       "      <th>17641</th>\n",
       "      <td>9825</td>\n",
       "      <td>PlayStation5(PS5)</td>\n",
       "      <td>Positive</td>\n",
       "      <td>Just watched as</td>\n",
       "    </tr>\n",
       "    <tr>\n",
       "      <th>14902</th>\n",
       "      <td>2952</td>\n",
       "      <td>Dota2</td>\n",
       "      <td>Neutral</td>\n",
       "      <td>Making crappy personal til&lt;unk&gt; 3 day trial re...</td>\n",
       "    </tr>\n",
       "    <tr>\n",
       "      <th>41454</th>\n",
       "      <td>1513</td>\n",
       "      <td>Battlefield</td>\n",
       "      <td>Positive</td>\n",
       "      <td>Battlefield 4 is one of my favorite FPS</td>\n",
       "    </tr>\n",
       "    <tr>\n",
       "      <th>54590</th>\n",
       "      <td>2176</td>\n",
       "      <td>CallOfDuty</td>\n",
       "      <td>Negative</td>\n",
       "      <td>It’s the Oscars when this happens!</td>\n",
       "    </tr>\n",
       "    <tr>\n",
       "      <th>62568</th>\n",
       "      <td>5126</td>\n",
       "      <td>GrandTheftAuto(GTA)</td>\n",
       "      <td>Positive</td>\n",
       "      <td>Just like in real life.</td>\n",
       "    </tr>\n",
       "    <tr>\n",
       "      <th>50574</th>\n",
       "      <td>6282</td>\n",
       "      <td>FIFA</td>\n",
       "      <td>Negative</td>\n",
       "      <td>Seriously, FIFA's points system should be bann...</td>\n",
       "    </tr>\n",
       "    <tr>\n",
       "      <th>69874</th>\n",
       "      <td>3971</td>\n",
       "      <td>Cyberpunk2077</td>\n",
       "      <td>Irrelevant</td>\n",
       "      <td>I see Studio Trigger, to get excited</td>\n",
       "    </tr>\n",
       "    <tr>\n",
       "      <th>30788</th>\n",
       "      <td>7289</td>\n",
       "      <td>LeagueOfLegends</td>\n",
       "      <td>Neutral</td>\n",
       "      <td>made a smol little piece to celebrate my team'...</td>\n",
       "    </tr>\n",
       "    <tr>\n",
       "      <th>19771</th>\n",
       "      <td>12585</td>\n",
       "      <td>WorldOfCraft</td>\n",
       "      <td>Negative</td>\n",
       "      <td>My first run as an ale and it wasn't smooth.</td>\n",
       "    </tr>\n",
       "    <tr>\n",
       "      <th>39452</th>\n",
       "      <td>5572</td>\n",
       "      <td>Hearthstone</td>\n",
       "      <td>Negative</td>\n",
       "      <td>It's kinda like after Shigeru Miyamoto created...</td>\n",
       "    </tr>\n",
       "    <tr>\n",
       "      <th>51890</th>\n",
       "      <td>10515</td>\n",
       "      <td>RedDeadRedemption(RDR)</td>\n",
       "      <td>Neutral</td>\n",
       "      <td>RED ENT REDEMPTION 2. .</td>\n",
       "    </tr>\n",
       "    <tr>\n",
       "      <th>63148</th>\n",
       "      <td>7624</td>\n",
       "      <td>MaddenNFL</td>\n",
       "      <td>Negative</td>\n",
       "      <td>Fuck @EAMaddenNFL support&lt;unk&gt; Customer servic...</td>\n",
       "    </tr>\n",
       "    <tr>\n",
       "      <th>17326</th>\n",
       "      <td>9770</td>\n",
       "      <td>PlayStation5(PS5)</td>\n",
       "      <td>Positive</td>\n",
       "      <td>. Finally! Looking forward at its tear down of...</td>\n",
       "    </tr>\n",
       "    <tr>\n",
       "      <th>16747</th>\n",
       "      <td>9669</td>\n",
       "      <td>PlayStation5(PS5)</td>\n",
       "      <td>Neutral</td>\n",
       "      <td>Sony PlayStation 5 is landing! linkedin.com / ...</td>\n",
       "    </tr>\n",
       "  </tbody>\n",
       "</table>\n",
       "</div>"
      ],
      "text/plain": [
       "        2401                        Borderlands    Positive  \\\n",
       "42852  10151  PlayerUnknownsBattlegrounds(PUBG)    Negative   \n",
       "67060   7083                    johnson&johnson     Neutral   \n",
       "42691  10124  PlayerUnknownsBattlegrounds(PUBG)    Positive   \n",
       "14578   2897                              Dota2    Negative   \n",
       "31954   7484                    LeagueOfLegends    Negative   \n",
       "13631   8739                              NBA2K    Negative   \n",
       "17641   9825                  PlayStation5(PS5)    Positive   \n",
       "14902   2952                              Dota2     Neutral   \n",
       "41454   1513                        Battlefield    Positive   \n",
       "54590   2176                         CallOfDuty    Negative   \n",
       "62568   5126                GrandTheftAuto(GTA)    Positive   \n",
       "50574   6282                               FIFA    Negative   \n",
       "69874   3971                      Cyberpunk2077  Irrelevant   \n",
       "30788   7289                    LeagueOfLegends     Neutral   \n",
       "19771  12585                       WorldOfCraft    Negative   \n",
       "39452   5572                        Hearthstone    Negative   \n",
       "51890  10515             RedDeadRedemption(RDR)     Neutral   \n",
       "63148   7624                          MaddenNFL    Negative   \n",
       "17326   9770                  PlayStation5(PS5)    Positive   \n",
       "16747   9669                  PlayStation5(PS5)     Neutral   \n",
       "\n",
       "      im getting on borderlands and i will murder you all ,  \n",
       "42852  You fools think banning gambling would increas...     \n",
       "67060  Got an internship rejection email today. Thank...     \n",
       "42691  I love playing @ PUBG. So fun to be... Also so...     \n",
       "14578                                       arcade game.     \n",
       "31954                                                  I     \n",
       "13631                           @NBA2K worst 2k ever idc     \n",
       "17641                                    Just watched as     \n",
       "14902  Making crappy personal til<unk> 3 day trial re...     \n",
       "41454            Battlefield 4 is one of my favorite FPS     \n",
       "54590                 It’s the Oscars when this happens!     \n",
       "62568                            Just like in real life.     \n",
       "50574  Seriously, FIFA's points system should be bann...     \n",
       "69874               I see Studio Trigger, to get excited     \n",
       "30788  made a smol little piece to celebrate my team'...     \n",
       "19771       My first run as an ale and it wasn't smooth.     \n",
       "39452  It's kinda like after Shigeru Miyamoto created...     \n",
       "51890                            RED ENT REDEMPTION 2. .     \n",
       "63148  Fuck @EAMaddenNFL support<unk> Customer servic...     \n",
       "17326  . Finally! Looking forward at its tear down of...     \n",
       "16747  Sony PlayStation 5 is landing! linkedin.com / ...     "
      ]
     },
     "execution_count": 3,
     "metadata": {},
     "output_type": "execute_result"
    }
   ],
   "source": [
    "df = pd.read_csv(\"twitter_training.csv\")\n",
    "df.sample(20)\n"
   ]
  },
  {
   "cell_type": "code",
   "execution_count": 4,
   "id": "7f5964ca",
   "metadata": {},
   "outputs": [
    {
     "name": "stdout",
     "output_type": "stream",
     "text": [
      "   2401  Borderlands sentiment  \\\n",
      "0  2401  Borderlands  Positive   \n",
      "1  2401  Borderlands  Positive   \n",
      "2  2401  Borderlands  Positive   \n",
      "3  2401  Borderlands  Positive   \n",
      "4  2401  Borderlands  Positive   \n",
      "\n",
      "                                           text_data  \n",
      "0  I am coming to the borders and I will kill you...  \n",
      "1  im getting on borderlands and i will kill you ...  \n",
      "2  im coming on borderlands and i will murder you...  \n",
      "3  im getting on borderlands 2 and i will murder ...  \n",
      "4  im getting into borderlands and i can murder y...  \n"
     ]
    }
   ],
   "source": [
    "df.rename(columns={'im getting on borderlands and i will murder you all ,': 'text_data', 'Positive': 'sentiment'}, inplace=True)\n",
    "\n",
    "print(df.head(5))"
   ]
  },
  {
   "cell_type": "code",
   "execution_count": 5,
   "id": "2c90aa3b",
   "metadata": {},
   "outputs": [
    {
     "data": {
      "text/plain": [
       "Index(['2401', 'Borderlands', 'sentiment', 'text_data'], dtype='object')"
      ]
     },
     "execution_count": 5,
     "metadata": {},
     "output_type": "execute_result"
    }
   ],
   "source": [
    "df.columns"
   ]
  },
  {
   "cell_type": "code",
   "execution_count": 6,
   "id": "598114f3",
   "metadata": {},
   "outputs": [
    {
     "data": {
      "text/plain": [
       "(74681, 4)"
      ]
     },
     "execution_count": 6,
     "metadata": {},
     "output_type": "execute_result"
    }
   ],
   "source": [
    "df.shape"
   ]
  },
  {
   "cell_type": "code",
   "execution_count": 7,
   "id": "220bf1b8",
   "metadata": {},
   "outputs": [
    {
     "name": "stdout",
     "output_type": "stream",
     "text": [
      "<class 'pandas.core.frame.DataFrame'>\n",
      "RangeIndex: 74681 entries, 0 to 74680\n",
      "Data columns (total 4 columns):\n",
      " #   Column       Non-Null Count  Dtype \n",
      "---  ------       --------------  ----- \n",
      " 0   2401         74681 non-null  int64 \n",
      " 1   Borderlands  74681 non-null  object\n",
      " 2   sentiment    74681 non-null  object\n",
      " 3   text_data    73995 non-null  object\n",
      "dtypes: int64(1), object(3)\n",
      "memory usage: 2.3+ MB\n"
     ]
    }
   ],
   "source": [
    "df.info()"
   ]
  },
  {
   "cell_type": "code",
   "execution_count": 8,
   "id": "f76b8814",
   "metadata": {},
   "outputs": [
    {
     "data": {
      "text/plain": [
       "2401            int64\n",
       "Borderlands    object\n",
       "sentiment      object\n",
       "text_data      object\n",
       "dtype: object"
      ]
     },
     "execution_count": 8,
     "metadata": {},
     "output_type": "execute_result"
    }
   ],
   "source": [
    "df.dtypes"
   ]
  },
  {
   "cell_type": "code",
   "execution_count": 9,
   "id": "17edf326",
   "metadata": {},
   "outputs": [
    {
     "data": {
      "text/plain": [
       "686"
      ]
     },
     "execution_count": 9,
     "metadata": {},
     "output_type": "execute_result"
    }
   ],
   "source": [
    "np.sum(df.isnull().any(axis=1))"
   ]
  },
  {
   "cell_type": "code",
   "execution_count": 10,
   "id": "875299eb",
   "metadata": {},
   "outputs": [
    {
     "name": "stdout",
     "output_type": "stream",
     "text": [
      "Missing Value Ratio:\n",
      "2401           0.000000\n",
      "Borderlands    0.000000\n",
      "sentiment      0.000000\n",
      "text_data      0.918574\n",
      "dtype: float64\n"
     ]
    }
   ],
   "source": [
    "\n",
    "missing_ratio = df.isnull().mean() * 100\n",
    "\n",
    "print(\"Missing Value Ratio:\")\n",
    "print(missing_ratio)\n"
   ]
  },
  {
   "cell_type": "code",
   "execution_count": 11,
   "id": "23232287",
   "metadata": {},
   "outputs": [
    {
     "data": {
      "text/plain": [
       "array(['Positive', 'Neutral', 'Negative', 'Irrelevant'], dtype=object)"
      ]
     },
     "execution_count": 11,
     "metadata": {},
     "output_type": "execute_result"
    }
   ],
   "source": [
    "df['sentiment'].unique()"
   ]
  },
  {
   "cell_type": "code",
   "execution_count": 12,
   "id": "972de760",
   "metadata": {},
   "outputs": [
    {
     "data": {
      "image/png": "[encoded data removed]",
      "text/plain": [
       "<Figure size 640x480 with 1 Axes>"
      ]
     },
     "metadata": {},
     "output_type": "display_data"
    }
   ],
   "source": [
    "\n",
    "ax = df.groupby('sentiment').count().plot(kind='bar', title='Distribution of data', legend=False)\n",
    "\n",
    "ax.set_xticks([0, 1, 2, 3])\n",
    "ax.set_xticklabels(['Irrelevant', 'Negative', 'Neutral', 'Positive'], rotation=0)\n",
    "\n",
    "text, sentiment = list(df['text_data']), list(df['sentiment'])"
   ]
  },
  {
   "cell_type": "code",
   "execution_count": 13,
   "id": "742f1fb9",
   "metadata": {},
   "outputs": [
    {
     "name": "stdout",
     "output_type": "stream",
     "text": [
      "Sentiment Counts:\n",
      "Negative      22542\n",
      "Positive      20831\n",
      "Neutral       18318\n",
      "Irrelevant    12990\n",
      "Name: sentiment, dtype: int64\n"
     ]
    }
   ],
   "source": [
    "\n",
    "sentiment_counts = df['sentiment'].value_counts()\n",
    "\n",
    "print(\"Sentiment Counts:\")\n",
    "print(sentiment_counts)"
   ]
  },
  {
   "cell_type": "code",
   "execution_count": 14,
   "id": "ca2ad03c",
   "metadata": {
    "scrolled": true
   },
   "outputs": [
    {
     "data": {
      "text/plain": [
       "<Axes: xlabel='sentiment', ylabel='count'>"
      ]
     },
     "execution_count": 14,
     "metadata": {},
     "output_type": "execute_result"
    },
    {
     "data": {
      "image/png": "[encoded data removed]",
      "text/plain": [
       "<Figure size 640x480 with 1 Axes>"
      ]
     },
     "metadata": {},
     "output_type": "display_data"
    }
   ],
   "source": [
    "import seaborn as sns\n",
    "sns.countplot(x='sentiment', data=df)"
   ]
  },
  {
   "cell_type": "code",
   "execution_count": 15,
   "id": "a431d99d",
   "metadata": {},
   "outputs": [],
   "source": [
    "data=df[['text_data','sentiment']]"
   ]
  },
  {
   "cell_type": "code",
   "execution_count": 16,
   "id": "c188843f",
   "metadata": {},
   "outputs": [
    {
     "data": {
      "text/plain": [
       "array(['Positive', 'Neutral', 'Negative', 'Irrelevant'], dtype=object)"
      ]
     },
     "execution_count": 16,
     "metadata": {},
     "output_type": "execute_result"
    }
   ],
   "source": [
    "data['sentiment'].unique()"
   ]
  },
  {
   "cell_type": "code",
   "execution_count": 17,
   "id": "c4cabccc",
   "metadata": {},
   "outputs": [
    {
     "name": "stdout",
     "output_type": "stream",
     "text": [
      "Positive count: 20831\n",
      "Negative count: 22542\n",
      "Neutral count: 18318\n",
      "Irrelevant count: 12990\n"
     ]
    }
   ],
   "source": [
    "\n",
    "data_pos = data[data['sentiment'] == \"Positive\" ]\n",
    "data_neg = data[data['sentiment'] == \"Negative\" ]\n",
    "data_neutral = data[data['sentiment'] == \"Neutral\"]  \n",
    "data_irrelevant = data[data['sentiment'] == \"Irrelevant\"]  \n",
    "\n",
    "count_pos = len(data_pos)\n",
    "count_neg = len(data_neg)\n",
    "count_neutral = len(data_neutral)\n",
    "count_irrelevant = len(data_irrelevant)\n",
    "\n",
    "print(\"Positive count:\", count_pos)\n",
    "print(\"Negative count:\", count_neg)\n",
    "print(\"Neutral count:\", count_neutral)\n",
    "print(\"Irrelevant count:\", count_irrelevant)\n"
   ]
  },
  {
   "cell_type": "code",
   "execution_count": 18,
   "id": "0c42505d",
   "metadata": {},
   "outputs": [
    {
     "name": "stdout",
     "output_type": "stream",
     "text": [
      "                                           text_data sentiment\n",
      "0  I am coming to the borders and I will kill you...  Positive\n",
      "1  im getting on borderlands and i will kill you ...  Positive\n",
      "2  im coming on borderlands and i will murder you...  Positive\n",
      "3  im getting on borderlands 2 and i will murder ...  Positive\n",
      "4  im getting into borderlands and i can murder y...  Positive\n",
      "5  So I spent a few hours making something for fu...  Positive\n",
      "6  So I spent a couple of hours doing something f...  Positive\n",
      "7  So I spent a few hours doing something for fun...  Positive\n",
      "8  So I spent a few hours making something for fu...  Positive\n",
      "9  2010 So I spent a few hours making something f...  Positive\n"
     ]
    }
   ],
   "source": [
    "import pandas as pd\n",
    "\n",
    "dataset = pd.concat([data_pos, data_neg, data_neutral, data_irrelevant], ignore_index=True)\n",
    "\n",
    "print(dataset.head(10))\n"
   ]
  },
  {
   "cell_type": "code",
   "execution_count": 19,
   "id": "248b2075",
   "metadata": {},
   "outputs": [
    {
     "data": {
      "text/plain": [
       "0    i am coming to the borders and i will kill you...\n",
       "1    im getting on borderlands and i will kill you ...\n",
       "2    im coming on borderlands and i will murder you...\n",
       "3    im getting on borderlands 2 and i will murder ...\n",
       "4    im getting into borderlands and i can murder y...\n",
       "Name: text_data, dtype: object"
      ]
     },
     "execution_count": 19,
     "metadata": {},
     "output_type": "execute_result"
    }
   ],
   "source": [
    "dataset['text_data']=dataset['text_data'].str.lower()\n",
    "dataset['text_data'].head()\n"
   ]
  },
  {
   "cell_type": "code",
   "execution_count": 20,
   "id": "b7b4dac3",
   "metadata": {},
   "outputs": [],
   "source": [
    "stopwordlist = ['a', 'about', 'above', 'after', 'again', 'ain', 'all', 'am', 'an',\n",
    "             'and','any','are', 'as', 'at', 'be', 'because', 'been', 'before',\n",
    "             'being', 'below', 'between','both', 'by', 'can', 'd', 'did', 'do',\n",
    "             'does', 'doing', 'down', 'during', 'each','few', 'for', 'from',\n",
    "             'further', 'had', 'has', 'have', 'having', 'he', 'her', 'here',\n",
    "             'hers', 'herself', 'him', 'himself', 'his', 'how', 'i', 'if', 'in',\n",
    "             'into','is', 'it', 'its', 'itself', 'just', 'll', 'm', 'ma',\n",
    "             'me', 'more', 'most','my', 'myself', 'now', 'o', 'of', 'on', 'once',\n",
    "             'only', 'or', 'other', 'our', 'ours','ourselves', 'out', 'own', 're','s', 'same', 'she', \"shes\", 'should', \"shouldve\",'so', 'some', 'such',\n",
    "             't', 'than', 'that', \"thatll\", 'the', 'their', 'theirs', 'them',\n",
    "             'themselves', 'then', 'there', 'these', 'they', 'this', 'those',\n",
    "             'through', 'to', 'too','under', 'until', 'up', 've', 'very', 'was',\n",
    "             'we', 'were', 'what', 'when', 'where','which','while', 'who', 'whom',\n",
    "             'why', 'will', 'with', 'won', 'y', 'you', \"youd\",\"youll\", \"youre\",\n",
    "             \"youve\", 'your', 'yours', 'yourself', 'yourselves']\n"
   ]
  },
  {
   "cell_type": "code",
   "execution_count": 21,
   "id": "1cf42843",
   "metadata": {
    "scrolled": true
   },
   "outputs": [
    {
     "data": {
      "text/plain": [
       "0                coming borders kill all,\n",
       "1        im getting borderlands kill all,\n",
       "2       im coming borderlands murder all,\n",
       "3    im getting borderlands 2 murder all,\n",
       "4      im getting borderlands murder all,\n",
       "Name: text_data, dtype: object"
      ]
     },
     "execution_count": 21,
     "metadata": {},
     "output_type": "execute_result"
    }
   ],
   "source": [
    "STOPWORDS = set(stopwordlist)\n",
    "def cleaning_stopwords(text):\n",
    "    return \" \".join([word for word in str(text).split() if word not in STOPWORDS])\n",
    "dataset['text_data'] = dataset['text_data'].apply(lambda text: cleaning_stopwords(text))\n",
    "dataset['text_data'].head()\n"
   ]
  },
  {
   "cell_type": "code",
   "execution_count": 22,
   "id": "ce49e986",
   "metadata": {},
   "outputs": [
    {
     "data": {
      "text/plain": [
       "74676    based last quarters earnings lets see well nex...\n",
       "74677    lets see well handle next one supply chains he...\n",
       "74678    good them stuff based earnings last quarter le...\n",
       "74679    9 good idea them based earnings last quarter l...\n",
       "74680    goes them based earnings first quarter cans se...\n",
       "Name: text_data, dtype: object"
      ]
     },
     "execution_count": 22,
     "metadata": {},
     "output_type": "execute_result"
    }
   ],
   "source": [
    "import string\n",
    "english_punctuations = string.punctuation\n",
    "punctuations_list = english_punctuations\n",
    "def cleaning_punctuations(text):\n",
    "    translator = str.maketrans('', '', punctuations_list)\n",
    "    return text.translate(translator)\n",
    "dataset['text_data']= dataset['text_data'].apply(lambda x: cleaning_punctuations(x))\n",
    "dataset['text_data'].tail()\n"
   ]
  },
  {
   "cell_type": "code",
   "execution_count": 23,
   "id": "69fbd521",
   "metadata": {},
   "outputs": [
    {
     "data": {
      "text/plain": [
       "74676    based last quarters earnings lets see well nex...\n",
       "74677    lets see well handle next one supply chains he...\n",
       "74678    good them stuff based earnings last quarter le...\n",
       "74679    9 good idea them based earnings last quarter l...\n",
       "74680    goes them based earnings first quarter cans se...\n",
       "Name: text_data, dtype: object"
      ]
     },
     "execution_count": 23,
     "metadata": {},
     "output_type": "execute_result"
    }
   ],
   "source": [
    "def cleaning_URLs(data):\n",
    "    return re.sub('((www.[^s]+)|(https?://[^s]+))',' ',data)\n",
    "dataset['text_data'] = dataset['text_data'].apply(lambda x: cleaning_URLs(x))\n",
    "dataset['text_data'].tail()\n"
   ]
  },
  {
   "cell_type": "code",
   "execution_count": 24,
   "id": "a3f982ba",
   "metadata": {},
   "outputs": [
    {
     "data": {
      "text/plain": [
       "74676    based last quarters earnings lets see well nex...\n",
       "74677    lets see well handle next one supply chains he...\n",
       "74678    good them stuff based earnings last quarter le...\n",
       "74679     good idea them based earnings last quarter le...\n",
       "74680    goes them based earnings first quarter cans se...\n",
       "Name: text_data, dtype: object"
      ]
     },
     "execution_count": 24,
     "metadata": {},
     "output_type": "execute_result"
    }
   ],
   "source": [
    "def cleaning_numbers(data):\n",
    "    return re.sub('[0-9]+', '', data)\n",
    "dataset['text_data'] = dataset['text_data'].apply(lambda x: cleaning_numbers(x))\n",
    "dataset['text_data'].tail()\n"
   ]
  },
  {
   "cell_type": "code",
   "execution_count": 25,
   "id": "7133789c",
   "metadata": {},
   "outputs": [
    {
     "name": "stdout",
     "output_type": "stream",
     "text": [
      "0               [coming, borders, kill, all]\n",
      "1      [im, getting, borderlands, kill, all]\n",
      "2     [im, coming, borderlands, murder, all]\n",
      "3    [im, getting, borderlands, murder, all]\n",
      "4    [im, getting, borderlands, murder, all]\n",
      "Name: text_data, dtype: object\n"
     ]
    }
   ],
   "source": [
    "from nltk.tokenize import RegexpTokenizer\n",
    "\n",
    "tokenizer = RegexpTokenizer(r'\\w+')\n",
    "\n",
    "dataset['text_data'] = dataset['text_data'].apply(tokenizer.tokenize)\n",
    "\n",
    "print(dataset['text_data'].head())"
   ]
  },
  {
   "cell_type": "code",
   "execution_count": 26,
   "id": "5f8178b0",
   "metadata": {},
   "outputs": [
    {
     "name": "stdout",
     "output_type": "stream",
     "text": [
      "0              [come, border, kill, all]\n",
      "1       [im, get, borderland, kill, all]\n",
      "2    [im, come, borderland, murder, all]\n",
      "3     [im, get, borderland, murder, all]\n",
      "4     [im, get, borderland, murder, all]\n",
      "Name: text_data, dtype: object\n"
     ]
    }
   ],
   "source": [
    "import nltk\n",
    "from nltk.stem import PorterStemmer\n",
    "\n",
    "\n",
    "st = PorterStemmer()\n",
    "\n",
    "def stemming_on_text(data):\n",
    "    text = [st.stem(word) for word in data]\n",
    "    return text \n",
    "\n",
    "dataset['text_data'] = dataset['text_data'].apply(lambda x: stemming_on_text(x))\n",
    "print(dataset['text_data'].head())"
   ]
  },
  {
   "cell_type": "code",
   "execution_count": 27,
   "id": "ce3f7628",
   "metadata": {},
   "outputs": [
    {
     "name": "stderr",
     "output_type": "stream",
     "text": [
      "[nltk_data] Downloading package wordnet to\n",
      "[nltk_data]     C:\\Users\\hp\\AppData\\Roaming\\nltk_data...\n",
      "[nltk_data]   Package wordnet is already up-to-date!\n"
     ]
    },
    {
     "name": "stdout",
     "output_type": "stream",
     "text": [
      "0              [come, border, kill, all]\n",
      "1       [im, get, borderland, kill, all]\n",
      "2    [im, come, borderland, murder, all]\n",
      "3     [im, get, borderland, murder, all]\n",
      "4     [im, get, borderland, murder, all]\n",
      "Name: text_data, dtype: object\n"
     ]
    }
   ],
   "source": [
    "import nltk\n",
    "\n",
    "\n",
    "nltk.download('wordnet')\n",
    "\n",
    "from nltk.stem import WordNetLemmatizer\n",
    "lm = WordNetLemmatizer()\n",
    "\n",
    "def lemmatizer_on_text(data):\n",
    "    text = [lm.lemmatize(word) for word in data]\n",
    "    return text\n",
    "\n",
    "dataset['text_data'] = dataset['text_data'].apply(lambda x: lemmatizer_on_text(x))\n",
    "\n",
    "print(dataset['text_data'].head())"
   ]
  },
  {
   "cell_type": "code",
   "execution_count": 28,
   "id": "9024e1d0",
   "metadata": {},
   "outputs": [],
   "source": [
    "X=dataset.text_data\n",
    "y=dataset.sentiment"
   ]
  },
  {
   "cell_type": "code",
   "execution_count": 29,
   "id": "b0207e69",
   "metadata": {},
   "outputs": [],
   "source": [
    "from sklearn.model_selection import train_test_split\n",
    "\n",
    "X_train, X_test, y_train, y_test = train_test_split(X, y, test_size=0.2, random_state=42)\n"
   ]
  },
  {
   "cell_type": "code",
   "execution_count": 30,
   "id": "09651412",
   "metadata": {},
   "outputs": [],
   "source": [
    "X_train.fillna('', inplace=True)"
   ]
  },
  {
   "cell_type": "code",
   "execution_count": 31,
   "id": "fd956e47",
   "metadata": {},
   "outputs": [
    {
     "name": "stdout",
     "output_type": "stream",
     "text": [
      "No. of feature_words:  29172\n"
     ]
    }
   ],
   "source": [
    "vectoriser = TfidfVectorizer(ngram_range=(1,2), max_features=500000)\n",
    "\n",
    "X_train_flattened = [item for sublist in X_train for item in sublist]\n",
    "vectoriser.fit(X_train_flattened)\n",
    "print('No. of feature_words: ', len(vectoriser.get_feature_names_out()))"
   ]
  },
  {
   "cell_type": "code",
   "execution_count": 32,
   "id": "023be22c",
   "metadata": {},
   "outputs": [
    {
     "name": "stdout",
     "output_type": "stream",
     "text": [
      "X_train_vectorized shape: (59744, 29172)\n",
      "y_train shape: 59744\n"
     ]
    }
   ],
   "source": [
    "from sklearn.feature_extraction.text import TfidfVectorizer\n",
    "\n",
    "\n",
    "X_train_preprocessed = [text.lower() if isinstance(text, str) else str(text) for text in X_train]\n",
    "X_test_preprocessed = [text.lower() if isinstance(text, str) else str(text) for text in X_test]\n",
    "\n",
    "vectorizer = TfidfVectorizer()\n",
    "\n",
    "\n",
    "vectorizer.fit(X_train_preprocessed)\n",
    "X_train_vectorized = vectorizer.transform(X_train_preprocessed)\n",
    "X_test_vectorized = vectorizer.transform(X_test_preprocessed)\n",
    "\n",
    "print(\"X_train_vectorized shape:\", X_train_vectorized.shape)\n",
    "print(\"y_train shape:\", len(y_train))"
   ]
  },
  {
   "cell_type": "code",
   "execution_count": 33,
   "id": "1406cd12",
   "metadata": {},
   "outputs": [
    {
     "name": "stdout",
     "output_type": "stream",
     "text": [
      "Accuracy: 0.6985338421369753\n"
     ]
    }
   ],
   "source": [
    "from sklearn.naive_bayes import BernoulliNB\n",
    "from sklearn.metrics import accuracy_score\n",
    "\n",
    "BNBmodel = BernoulliNB()\n",
    "BNBmodel.fit(X_train_vectorized, y_train)\n",
    "\n",
    "y_pred = BNBmodel.predict(X_test_vectorized)\n",
    "accuracy = accuracy_score(y_test, y_pred)\n",
    "print(\"Accuracy:\", accuracy)\n"
   ]
  },
  {
   "cell_type": "code",
   "execution_count": 34,
   "id": "b1e0fde6",
   "metadata": {},
   "outputs": [
    {
     "name": "stdout",
     "output_type": "stream",
     "text": [
      "Accuracy: 0.6985338421369753\n",
      "\n",
      "F1 Score: 0.6938488268157276\n",
      "\n",
      "Confusion Matrix:\n",
      "[[1296  470   64  759]\n",
      " [  51 3516  119  779]\n",
      " [ 112  548 2003 1070]\n",
      " [  56  379   96 3619]]\n",
      "\n",
      "Classification Report:\n",
      "              precision    recall  f1-score   support\n",
      "\n",
      "  Irrelevant       0.86      0.50      0.63      2589\n",
      "    Negative       0.72      0.79      0.75      4465\n",
      "     Neutral       0.88      0.54      0.67      3733\n",
      "    Positive       0.58      0.87      0.70      4150\n",
      "\n",
      "    accuracy                           0.70     14937\n",
      "   macro avg       0.76      0.67      0.69     14937\n",
      "weighted avg       0.74      0.70      0.69     14937\n",
      "\n"
     ]
    },
    {
     "data": {
      "image/png": "[encoded data removed]",
      "text/plain": [
       "<Figure size 800x600 with 1 Axes>"
      ]
     },
     "metadata": {},
     "output_type": "display_data"
    }
   ],
   "source": [
    "\n",
    "y_pred = BNBmodel.predict(X_test_vectorized)  \n",
    "\n",
    "\n",
    "accuracy = accuracy_score(y_test, y_pred)\n",
    "print(\"Accuracy:\", accuracy)\n",
    "\n",
    "\n",
    "f1 = f1_score(y_test, y_pred, average='weighted')\n",
    "print(\"\\nF1 Score:\", f1)\n",
    "\n",
    "\n",
    "conf_matrix = confusion_matrix(y_test, y_pred)\n",
    "\n",
    "\n",
    "print(\"\\nConfusion Matrix:\")\n",
    "print(conf_matrix)\n",
    "\n",
    "class_report = classification_report(y_test, y_pred)\n",
    "print(\"\\nClassification Report:\")\n",
    "print(class_report)\n",
    "\n",
    "\n",
    "plt.figure(figsize=(8, 6))\n",
    "sns.heatmap(conf_matrix, annot=True, fmt=\"d\", cmap=\"Blues\", cbar=False)\n",
    "plt.title(\"Confusion Matrix\")\n",
    "plt.xlabel(\"Predicted Label\")\n",
    "plt.ylabel(\"True Label\")\n",
    "plt.show()\n"
   ]
  },
  {
   "cell_type": "code",
   "execution_count": 35,
   "id": "a9b1edc8",
   "metadata": {},
   "outputs": [
    {
     "name": "stdout",
     "output_type": "stream",
     "text": [
      "Accuracy: 0.8243288478275423\n"
     ]
    }
   ],
   "source": [
    "from sklearn.feature_extraction.text import CountVectorizer\n",
    "\n",
    "SVCmodel = LinearSVC(dual=False)  \n",
    "SVCmodel.fit(X_train_vectorized, y_train)\n",
    "\n",
    "y_pred = SVCmodel.predict(X_test_vectorized)\n",
    "accuracy = accuracy_score(y_test, y_pred)\n",
    "print(\"Accuracy:\", accuracy)"
   ]
  },
  {
   "cell_type": "code",
   "execution_count": 36,
   "id": "eb4911bc",
   "metadata": {},
   "outputs": [
    {
     "name": "stdout",
     "output_type": "stream",
     "text": [
      "Accuracy: 0.8243288478275423\n",
      "\n",
      "F1 Score: 0.8242395413703074\n",
      "\n",
      "Confusion Matrix:\n",
      "[[1999  207  162  221]\n",
      " [  87 3823  305  250]\n",
      " [ 110  278 3026  319]\n",
      " [ 100  274  311 3465]]\n",
      "\n",
      "Classification Report:\n",
      "              precision    recall  f1-score   support\n",
      "\n",
      "  Irrelevant       0.87      0.77      0.82      2589\n",
      "    Negative       0.83      0.86      0.85      4465\n",
      "     Neutral       0.80      0.81      0.80      3733\n",
      "    Positive       0.81      0.83      0.82      4150\n",
      "\n",
      "    accuracy                           0.82     14937\n",
      "   macro avg       0.83      0.82      0.82     14937\n",
      "weighted avg       0.83      0.82      0.82     14937\n",
      "\n"
     ]
    },
    {
     "data": {
      "image/png": "[encoded data removed]",
      "text/plain": [
       "<Figure size 800x600 with 1 Axes>"
      ]
     },
     "metadata": {},
     "output_type": "display_data"
    }
   ],
   "source": [
    "from sklearn.feature_extraction.text import CountVectorizer\n",
    "\n",
    "SVCmodel = LinearSVC(dual=False)  \n",
    "SVCmodel.fit(X_train_vectorized, y_train)\n",
    "\n",
    "y_pred = SVCmodel.predict(X_test_vectorized)\n",
    "\n",
    "accuracy = accuracy_score(y_test, y_pred)\n",
    "print(\"Accuracy:\", accuracy)\n",
    "\n",
    "f1 = f1_score(y_test, y_pred, average='weighted')\n",
    "print(\"\\nF1 Score:\", f1)\n",
    "\n",
    "\n",
    "conf_matrix = confusion_matrix(y_test, y_pred)\n",
    "print(\"\\nConfusion Matrix:\")\n",
    "print(conf_matrix)\n",
    "\n",
    "class_report = classification_report(y_test, y_pred)\n",
    "print(\"\\nClassification Report:\")\n",
    "print(class_report)\n",
    "\n",
    "plt.figure(figsize=(8, 6))\n",
    "sns.heatmap(conf_matrix, annot=True, fmt=\"d\", cmap=\"Blues\", cbar=False)\n",
    "plt.title(\"Confusion Matrix\")\n",
    "plt.xlabel(\"Predicted Label\")\n",
    "plt.ylabel(\"True Label\")\n",
    "plt.show()\n"
   ]
  },
  {
   "cell_type": "code",
   "execution_count": 37,
   "id": "68091a03",
   "metadata": {
    "scrolled": false
   },
   "outputs": [
    {
     "name": "stdout",
     "output_type": "stream",
     "text": [
      "\n",
      "Accuracy: 0.7637410457253799\n"
     ]
    }
   ],
   "source": [
    "from sklearn.linear_model import LogisticRegression\n",
    "from sklearn.metrics import confusion_matrix, accuracy_score\n",
    "\n",
    "LRmodel = LogisticRegression(multi_class='ovr',C=2, max_iter=1000, n_jobs=-1)\n",
    "LRmodel.fit(X_train_vectorized, y_train)  \n",
    "y_pred = LRmodel.predict(X_test_vectorized)\n",
    "accuracy = accuracy_score(y_test, y_pred)\n",
    "print(\"\\nAccuracy:\", accuracy)\n",
    "\n"
   ]
  },
  {
   "cell_type": "code",
   "execution_count": 38,
   "id": "7248ac27",
   "metadata": {},
   "outputs": [
    {
     "name": "stdout",
     "output_type": "stream",
     "text": [
      "\n",
      "Accuracy: 0.7637410457253799\n",
      "\n",
      " F1 Score: 0.7626927767204992\n",
      "Confusion Matrix:\n",
      "[[1694  316  235  344]\n",
      " [ 112 3684  375  294]\n",
      " [ 144  415 2742  432]\n",
      " [ 124  353  385 3288]]\n",
      "Classification Report:\n",
      "              precision    recall  f1-score   support\n",
      "\n",
      "  Irrelevant       0.82      0.65      0.73      2589\n",
      "    Negative       0.77      0.83      0.80      4465\n",
      "     Neutral       0.73      0.73      0.73      3733\n",
      "    Positive       0.75      0.79      0.77      4150\n",
      "\n",
      "    accuracy                           0.76     14937\n",
      "   macro avg       0.77      0.75      0.76     14937\n",
      "weighted avg       0.77      0.76      0.76     14937\n",
      "\n"
     ]
    },
    {
     "data": {
      "image/png": "[encoded data removed]",
      "text/plain": [
       "<Figure size 800x600 with 2 Axes>"
      ]
     },
     "metadata": {},
     "output_type": "display_data"
    }
   ],
   "source": [
    "import matplotlib.pyplot as plt\n",
    "from sklearn.metrics import classification_report, f1_score\n",
    "\n",
    "import seaborn as sns\n",
    "\n",
    "y_pred = LRmodel.predict(X_test_vectorized)\n",
    "\n",
    "\n",
    "conf_matrix = confusion_matrix(y_test, y_pred)\n",
    "\n",
    "y_pred = LRmodel.predict(X_test_vectorized)  \n",
    "\n",
    "conf_matrix = confusion_matrix(y_test, y_pred)\n",
    "\n",
    "accuracy = accuracy_score(y_test, y_pred)\n",
    "\n",
    "class_report = classification_report(y_test, y_pred)\n",
    "\n",
    "f1 = f1_score(y_test, y_pred, average='weighted')\n",
    "print(\"\\nAccuracy:\", accuracy)\n",
    "print(\"\\n F1 Score:\", f1)\n",
    "print(\"Confusion Matrix:\")\n",
    "print(conf_matrix)\n",
    "\n",
    "\n",
    "print(\"Classification Report:\")\n",
    "print(class_report)\n",
    "\n",
    "plt.figure(figsize=(8, 6))\n",
    "sns.heatmap(conf_matrix, annot=True, cmap='Blues', fmt='d')\n",
    "plt.xlabel('Predicted Label')\n",
    "plt.ylabel('True Label')\n",
    "plt.title('Confusion Matrix')\n",
    "plt.show()\n"
   ]
  },
  {
   "cell_type": "code",
   "execution_count": null,
   "id": "c9d3d22e",
   "metadata": {},
   "outputs": [],
   "source": []
  },
  {
   "cell_type": "code",
   "execution_count": null,
   "id": "d461fc5d",
   "metadata": {},
   "outputs": [],
   "source": []
  }
 ],
 "metadata": {
  "kernelspec": {
   "display_name": "Python 3 (ipykernel)",
   "language": "python",
   "name": "python3"
  },
  "language_info": {
   "codemirror_mode": {
    "name": "ipython",
    "version": 3
   },
   "file_extension": ".py",
   "mimetype": "text/x-python",
   "name": "python",
   "nbconvert_exporter": "python",
   "pygments_lexer": "ipython3",
   "version": "3.11.5"
  }
 },
 "nbformat": 4,
 "nbformat_minor": 5
}
